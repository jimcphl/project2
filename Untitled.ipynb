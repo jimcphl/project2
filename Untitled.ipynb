{
 "cells": [
  {
   "cell_type": "markdown",
   "id": "5e125cc6",
   "metadata": {},
   "source": [
    "# Voice\n",
    "- https://github.com/CorentinJ/Real-Time-Voice-Cloning"
   ]
  },
  {
   "cell_type": "markdown",
   "id": "8a7228da",
   "metadata": {},
   "source": []
  }
 ],
 "metadata": {
  "kernelspec": {
   "display_name": "base",
   "language": "python",
   "name": "python3"
  },
  "language_info": {
   "codemirror_mode": {
    "name": "ipython",
    "version": 3
   },
   "file_extension": ".py",
   "mimetype": "text/x-python",
   "name": "python",
   "nbconvert_exporter": "python",
   "pygments_lexer": "ipython3",
   "version": "3.11.5"
  }
 },
 "nbformat": 4,
 "nbformat_minor": 5
}
